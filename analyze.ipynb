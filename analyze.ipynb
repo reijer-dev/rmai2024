{
 "cells": [
  {
   "cell_type": "code",
   "execution_count": 78,
   "metadata": {},
   "outputs": [
    {
     "name": "stdout",
     "output_type": "stream",
     "text": [
      "   density  wind_speed  direction strategy  perc_burned  perc_preburned  \\\n",
      "0       50           0          1  Nothing        87.12            1.66   \n",
      "1       55           0          1  Nothing        87.14            1.63   \n",
      "2       60           0          1  Nothing        87.04            1.64   \n",
      "3       65           0          1  Nothing        87.11            1.64   \n",
      "4       70           0          1  Nothing        87.47            1.65   \n",
      "\n",
      "   village_damaged  total_burned  \n",
      "0            False         88.78  \n",
      "1            False         88.77  \n",
      "2            False         88.68  \n",
      "3            False         88.75  \n",
      "4            False         89.12  \n"
     ]
    }
   ],
   "source": [
    "import pandas as pd\n",
    "import numpy as np\n",
    "\n",
    "df = pd.read_csv('phase-2.csv')\n",
    "df['total_burned'] = df['perc_burned'] + df['perc_preburned']\n",
    "print(df.head())"
   ]
  },
  {
   "cell_type": "code",
   "execution_count": 90,
   "metadata": {},
   "outputs": [],
   "source": [
    "#We apply the constraint that the village must not be damaged as a high penalty (we set total_burned to > 1000)\n",
    "for i,x in df.iterrows():\n",
    "    if x['village_damaged'] == True:\n",
    "        df.at[i, 'total_burned'] = 1000"
   ]
  },
  {
   "cell_type": "code",
   "execution_count": 91,
   "metadata": {},
   "outputs": [
    {
     "name": "stdout",
     "output_type": "stream",
     "text": [
      "strategy\n",
      "Diagonal           228.042222\n",
      "Even                70.188889\n",
      "Nothing             88.852222\n",
      "Omnidirectional    449.834444\n",
      "Wall               129.997778\n",
      "Name: total_burned, dtype: float64\n",
      "Even\n"
     ]
    }
   ],
   "source": [
    "scores = df.groupby('strategy')['total_burned'].mean()\n",
    "print(scores)\n",
    "winning_strategy = scores.idxmin()\n",
    "print(winning_strategy)"
   ]
  }
 ],
 "metadata": {
  "kernelspec": {
   "display_name": "Python 3",
   "language": "python",
   "name": "python3"
  },
  "language_info": {
   "codemirror_mode": {
    "name": "ipython",
    "version": 3
   },
   "file_extension": ".py",
   "mimetype": "text/x-python",
   "name": "python",
   "nbconvert_exporter": "python",
   "pygments_lexer": "ipython3",
   "version": "3.12.5"
  }
 },
 "nbformat": 4,
 "nbformat_minor": 2
}
