{
 "cells": [
  {
   "cell_type": "code",
   "execution_count": 115,
   "metadata": {},
   "outputs": [
    {
     "name": "stdout",
     "output_type": "stream",
     "text": [
      "   density  wind_speed  direction strategy  perc_burned  perc_preburned  \\\n",
      "0       50           0          1  Nothing        88.32            5.98   \n",
      "1       50           0          1  Nothing        88.04            5.97   \n",
      "2       50           0          1  Nothing        87.33            6.05   \n",
      "3       50           0          1  Nothing        87.80            6.04   \n",
      "4       55           0          1  Nothing        88.19            5.98   \n",
      "\n",
      "   village_damaged  seed  total_burned  \n",
      "0             True     0         94.30  \n",
      "1             True     1         94.01  \n",
      "2             True     2         93.38  \n",
      "3             True     3         93.84  \n",
      "4             True     0         94.17  \n"
     ]
    }
   ],
   "source": [
    "import pandas as pd\n",
    "import numpy as np\n",
    "\n",
    "df = pd.read_csv('phase-2.csv')\n",
    "df['total_burned'] = df['perc_burned'] + df['perc_preburned']\n",
    "print(df.head())"
   ]
  },
  {
   "cell_type": "code",
   "execution_count": null,
   "metadata": {},
   "outputs": [
    {
     "name": "stdout",
     "output_type": "stream",
     "text": [
      "      density  wind_speed  direction strategy  perc_burned  perc_preburned  \\\n",
      "0          50           0          1  Nothing        87.90            5.99   \n",
      "1          50           0          1  Nothing        87.40            6.02   \n",
      "2          50           0          1  Nothing        88.36            6.00   \n",
      "3          50           0          1  Nothing        88.52            6.06   \n",
      "4          50           3          1  Nothing        88.32            6.04   \n",
      "...       ...         ...        ...      ...          ...             ...   \n",
      "4495       90          23          7     Wall        88.98            1.60   \n",
      "4496       90          23          8     Wall        89.64            1.63   \n",
      "4497       90          23          8     Wall        89.60            1.61   \n",
      "4498       90          23          8     Wall        89.76            1.60   \n",
      "4499       90          23          8     Wall        89.43            1.61   \n",
      "\n",
      "      village_damaged  total_burned  \n",
      "0                True     100000.00  \n",
      "1                True     100000.00  \n",
      "2                True     100000.00  \n",
      "3                True     100000.00  \n",
      "4                True     100000.00  \n",
      "...               ...           ...  \n",
      "4495            False         90.58  \n",
      "4496            False         91.27  \n",
      "4497            False         91.21  \n",
      "4498            False         91.36  \n",
      "4499            False         91.04  \n",
      "\n",
      "[4500 rows x 8 columns]\n"
     ]
    }
   ],
   "source": [
    "#We apply the constraint that the village must not be damaged as a high penalty (we set total_burned to > 1000)\n",
    "for i,x in df.iterrows():\n",
    "    if x['village_damaged'] == True:\n",
    "        df.at[i, 'total_burned'] = 100\n",
    "\n",
    "print(df)"
   ]
  },
  {
   "cell_type": "code",
   "execution_count": 116,
   "metadata": {},
   "outputs": [
    {
     "name": "stdout",
     "output_type": "stream",
     "text": [
      "strategy\n",
      "Diagonal           25.641667\n",
      "Even               28.365833\n",
      "Nothing            56.781389\n",
      "Omnidirectional    38.028889\n",
      "Wall               25.074167\n",
      "Name: total_burned, dtype: float64\n",
      "Wall\n"
     ]
    }
   ],
   "source": [
    "scores = df.groupby('strategy')['total_burned'].mean()\n",
    "print(scores)\n",
    "winning_strategy = scores.idxmin()\n",
    "print(f'Winner: {winning_strategy}')"
   ]
  }
 ],
 "metadata": {
  "kernelspec": {
   "display_name": "Python 3",
   "language": "python",
   "name": "python3"
  },
  "language_info": {
   "codemirror_mode": {
    "name": "ipython",
    "version": 3
   },
   "file_extension": ".py",
   "mimetype": "text/x-python",
   "name": "python",
   "nbconvert_exporter": "python",
   "pygments_lexer": "ipython3",
   "version": "3.12.5"
  }
 },
 "nbformat": 4,
 "nbformat_minor": 2
}
